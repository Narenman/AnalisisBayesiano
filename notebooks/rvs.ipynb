{
 "cells": [
  {
   "cell_type": "code",
   "execution_count": 1,
   "metadata": {},
   "outputs": [],
   "source": [
    "import numpy as np\n",
    "import numpy.random as npr\n",
    "import scipy.stats as sps\n",
    "import matplotlib.pyplot as plt\n",
    "%matplotlib inline"
   ]
  },
  {
   "cell_type": "markdown",
   "metadata": {},
   "source": [
    "# Variables aleatorias discreta\n",
    "\n",
    "## Suma de dos dados"
   ]
  },
  {
   "cell_type": "markdown",
   "metadata": {},
   "source": [
    "Especifíquese la pmf"
   ]
  },
  {
   "cell_type": "code",
   "execution_count": 2,
   "metadata": {},
   "outputs": [
    {
     "name": "stdout",
     "output_type": "stream",
     "text": [
      "[ 2  3  4  5  6  7  8  9 10 11 12]\n",
      "[0.02777778 0.05555556 0.08333333 0.11111111 0.13888889 0.16666667\n",
      " 0.13888889 0.11111111 0.08333333 0.05555556 0.02777778]\n"
     ]
    }
   ],
   "source": [
    "vals  = np.arange(2, 13)\n",
    "probs = np.array([1, 2, 3, 4, 5, 6, 5, 4, 3, 2, 1]) / 36\n",
    "print(vals)\n",
    "print(probs)"
   ]
  },
  {
   "cell_type": "markdown",
   "metadata": {},
   "source": [
    "La suma de los valores de la pmf debe ser $1$, i.e.,\n",
    "\\begin{equation*}\n",
    "\\sum_{k \\in [2, 12]} p_X(k) = 1\n",
    "\\end{equation*}"
   ]
  },
  {
   "cell_type": "code",
   "execution_count": 3,
   "metadata": {},
   "outputs": [
    {
     "data": {
      "text/plain": [
       "1.0"
      ]
     },
     "execution_count": 3,
     "metadata": {},
     "output_type": "execute_result"
    }
   ],
   "source": [
    "probs.sum()"
   ]
  },
  {
   "cell_type": "markdown",
   "metadata": {},
   "source": [
    "Especifíquese la semilla del generador para reproducibilidad"
   ]
  },
  {
   "cell_type": "code",
   "execution_count": 4,
   "metadata": {},
   "outputs": [],
   "source": [
    "npr.seed(0)"
   ]
  },
  {
   "cell_type": "markdown",
   "metadata": {},
   "source": [
    "Genérese varias muestras de $X$"
   ]
  },
  {
   "cell_type": "code",
   "execution_count": 5,
   "metadata": {},
   "outputs": [
    {
     "name": "stdout",
     "output_type": "stream",
     "text": [
      "Muestras =  [ 7  8  8  7  7  8  7 10 11  6]\n"
     ]
    }
   ],
   "source": [
    "ns = 100\n",
    "samples = npr.choice(vals, p=probs, size=ns)\n",
    "print('Muestras = ', samples[:10])"
   ]
  },
  {
   "cell_type": "markdown",
   "metadata": {},
   "source": [
    "### Histograma"
   ]
  },
  {
   "cell_type": "markdown",
   "metadata": {},
   "source": [
    "Un histograma consiste en _intervalos_ de la variable aleatoria, y _cuentas_ del número de muestras en el intervalo"
   ]
  },
  {
   "cell_type": "code",
   "execution_count": 6,
   "metadata": {},
   "outputs": [
    {
     "name": "stdout",
     "output_type": "stream",
     "text": [
      "[ 1.5  2.5  3.5  4.5  5.5  6.5  7.5  8.5  9.5 10.5 11.5 12.5]\n"
     ]
    }
   ],
   "source": [
    "bc = np.arange(2, 14) - 0.5\n",
    "print(bc)"
   ]
  },
  {
   "cell_type": "code",
   "execution_count": 7,
   "metadata": {},
   "outputs": [
    {
     "data": {
      "image/png": "[encoded data removed]",
      "text/plain": [
       "<Figure size 432x288 with 1 Axes>"
      ]
     },
     "metadata": {},
     "output_type": "display_data"
    }
   ],
   "source": [
    "counts, bins, _ = plt.hist(samples, bins=bc)"
   ]
  },
  {
   "cell_type": "code",
   "execution_count": 8,
   "metadata": {},
   "outputs": [
    {
     "name": "stdout",
     "output_type": "stream",
     "text": [
      "Cuentas:\n",
      " [ 4.  4. 15.  8. 12. 18. 18.  9.  3.  5.  4.] \n",
      "\n",
      "Intervalos:\n",
      " [ 1.5  2.5  3.5  4.5  5.5  6.5  7.5  8.5  9.5 10.5 11.5 12.5]\n"
     ]
    }
   ],
   "source": [
    "print('Cuentas:\\n', counts, '\\n')\n",
    "print('Intervalos:\\n', bins)"
   ]
  },
  {
   "cell_type": "markdown",
   "metadata": {},
   "source": [
    "### Función de masa de probabilidad (pmf)"
   ]
  },
  {
   "cell_type": "markdown",
   "metadata": {},
   "source": [
    "Las cuentas en el histograma no corresponden a la pmf, pero la pmf se puede approximar usando las cuentas:  Para un valor $a$ en el intervalo $b$,\n",
    "\n",
    "\\begin{equation*}\n",
    "p(a) \\approx \\frac{\\text{cuenta}(b)}{n_\\mathrm{s}}\n",
    "\\end{equation*}"
   ]
  },
  {
   "cell_type": "code",
   "execution_count": 9,
   "metadata": {},
   "outputs": [
    {
     "data": {
      "text/plain": [
       "<StemContainer object of 3 artists>"
      ]
     },
     "execution_count": 9,
     "metadata": {},
     "output_type": "execute_result"
    },
    {
     "data": {
      "image/png": "[encoded data removed]",
      "text/plain": [
       "<Figure size 432x288 with 1 Axes>"
      ]
     },
     "metadata": {},
     "output_type": "display_data"
    }
   ],
   "source": [
    "weights = np.ones_like(samples) / ns\n",
    "plt.hist(samples, bins=bc, weights=weights)\n",
    "plt.stem(vals, probs, markerfmt='ro', linefmt='r--')"
   ]
  },
  {
   "cell_type": "markdown",
   "metadata": {},
   "source": [
    "Se puede ver que el histograma normalizado aproxima la pmf de $X$, aunque no muy bien.  La aproximación mejora si el número de muestras se aumenta.  Inténtelo!\n",
    "- Cambie `ns` a el número que quiera (mayor a 100)\n",
    "- Kernel > Restart Kernel and Clear All Outputs\n",
    "- Ejecute hasta ésta celda"
   ]
  },
  {
   "cell_type": "markdown",
   "metadata": {},
   "source": [
    "### Cuantiles y algunos estadísticos"
   ]
  },
  {
   "cell_type": "markdown",
   "metadata": {},
   "source": [
    "Para calcular las propiedades de la distribución de $X$ podemos crear un objeto `rv_discrete` a partir de los valores de $X$ y su pmf:"
   ]
  },
  {
   "cell_type": "code",
   "execution_count": 10,
   "metadata": {},
   "outputs": [],
   "source": [
    "sumdice = sps.rv_discrete(name='sumdice', values=(vals, probs))"
   ]
  },
  {
   "cell_type": "code",
   "execution_count": 11,
   "metadata": {},
   "outputs": [
    {
     "name": "stdout",
     "output_type": "stream",
     "text": [
      "Q(0.1) =  4.0\n",
      "Q(0.2) =  5.0\n",
      "Q(0.5) =  7.0\n",
      "Q(0.7) =  8.0\n",
      "Q(0.9) =  10.0\n",
      "Media = 7, Mediana = 7, Varianza = 5.83333\n"
     ]
    }
   ],
   "source": [
    "print('Q(0.1) = ', sumdice.ppf(0.1))\n",
    "print('Q(0.2) = ', sumdice.ppf(0.2))\n",
    "print('Q(0.5) = ', sumdice.ppf(0.5))\n",
    "print('Q(0.7) = ', sumdice.ppf(0.7))\n",
    "print('Q(0.9) = ', sumdice.ppf(0.9))\n",
    "print('Media = {:g}, Mediana = {:g}, Varianza = {:g}'.\n",
    "      format(sumdice.mean(),\n",
    "             sumdice.median(),\n",
    "             sumdice.var()))"
   ]
  },
  {
   "cell_type": "markdown",
   "metadata": {},
   "source": [
    "## Otras variables aleatorias contínuas"
   ]
  },
  {
   "cell_type": "markdown",
   "metadata": {},
   "source": [
    "### Distribución binomial\n",
    "\n",
    "Un _ensayo binomial_ es un conjunto de $n$ intentos aleatorios independientes con dos posibles resultados mutuamente excluyentes (éxito o fracaso), con probabilidad de éxito $\\theta$ (y de fracaso $1 - \\theta$), donde se está interesado en el número total de éxitos.\n",
    "\n",
    "Considérese la variable aleatoria $Y$ definida como el número de éxitos, entonces, se dice que $Y \\sim \\operatorname{Binomial}(\\theta, n)$ y la pmf es la distribución binomial\n",
    "\\begin{equation*}\n",
    "p_Y(y) = \\operatorname{Binomial}(y \\mid \\theta, n)\n",
    "\\end{equation*}\n",
    "donde $\\theta$ y $n$ son los parámetros de la distribución binomial."
   ]
  },
  {
   "cell_type": "code",
   "execution_count": 12,
   "metadata": {},
   "outputs": [
    {
     "data": {
      "image/png": "[encoded data removed]",
      "text/plain": [
       "<Figure size 432x288 with 1 Axes>"
      ]
     },
     "metadata": {},
     "output_type": "display_data"
    },
    {
     "data": {
      "image/png": "[encoded data removed]",
      "text/plain": [
       "<Figure size 432x288 with 1 Axes>"
      ]
     },
     "metadata": {},
     "output_type": "display_data"
    }
   ],
   "source": [
    "n = 100\n",
    "q = 0.4\n",
    "x = np.arange(sps.binom.ppf(0.001, n, q), sps.binom.ppf(0.999, n, q))\n",
    "plt.stem(x, sps.binom.pmf(x, n, q) , markerfmt='ro', linefmt='r')\n",
    "plt.show()\n",
    "plt.stem(x, sps.binom.cdf(x, n, q) , markerfmt='ro', linefmt='r')\n",
    "plt.show()"
   ]
  },
  {
   "cell_type": "code",
   "execution_count": 13,
   "metadata": {},
   "outputs": [
    {
     "name": "stdout",
     "output_type": "stream",
     "text": [
      "Q(0.1) =  34.0\n",
      "Q(0.2) =  36.0\n",
      "Q(0.5) =  40.0\n",
      "Q(0.7) =  43.0\n",
      "Q(0.9) =  46.0\n",
      "Media = 40, Mediana = 40, Varianza = 24\n"
     ]
    }
   ],
   "source": [
    "print('Q(0.1) = ', sps.binom.ppf(0.1, n, q))\n",
    "print('Q(0.2) = ', sps.binom.ppf(0.2, n, q))\n",
    "print('Q(0.5) = ', sps.binom.ppf(0.5, n, q))\n",
    "print('Q(0.7) = ', sps.binom.ppf(0.7, n, q))\n",
    "print('Q(0.9) = ', sps.binom.ppf(0.9, n, q))\n",
    "print('Media = {:g}, Mediana = {:g}, Varianza = {:g}'.\n",
    "      format(sps.binom.mean(n, q),\n",
    "             sps.binom.median(n, q),\n",
    "             sps.binom.var(n, q)))"
   ]
  },
  {
   "cell_type": "markdown",
   "metadata": {},
   "source": [
    "Intente cambiar los parámetros `n` y `q` para ver diferentes distribuciones binomiales"
   ]
  },
  {
   "cell_type": "markdown",
   "metadata": {},
   "source": [
    "# Variable aleatoria contínua\n",
    "\n",
    "## Variable normal estándar\n",
    "\n",
    "\\begin{equation*}\n",
    "X \\sim \\mathcal{N}(0, 1)\n",
    "\\end{equation*}"
   ]
  },
  {
   "cell_type": "markdown",
   "metadata": {},
   "source": [
    "Generemos algunas muestras de $X$:"
   ]
  },
  {
   "cell_type": "code",
   "execution_count": 14,
   "metadata": {},
   "outputs": [
    {
     "name": "stdout",
     "output_type": "stream",
     "text": [
      "Primeras 10 muestras =  [-1.16514984  0.90082649  0.46566244 -1.53624369  1.48825219  1.89588918\n",
      "  1.17877957 -0.17992484 -1.07075262  1.05445173]\n"
     ]
    }
   ],
   "source": [
    "n = 200\n",
    "samples = npr.standard_normal(n)\n",
    "print('Primeras 10 muestras = ', samples[:10])"
   ]
  },
  {
   "cell_type": "markdown",
   "metadata": {},
   "source": [
    "### Histogramas"
   ]
  },
  {
   "cell_type": "markdown",
   "metadata": {},
   "source": [
    "Podemos calcular un histograma cumulativo, en el que el valor cumulativo para cada intervalo corresponde a la suma de la cuenta del intervalo y de todos los intervalos menores al intervalo en cuestión"
   ]
  },
  {
   "cell_type": "code",
   "execution_count": 15,
   "metadata": {},
   "outputs": [
    {
     "data": {
      "image/png": "[encoded data removed]",
      "text/plain": [
       "<Figure size 432x288 with 1 Axes>"
      ]
     },
     "metadata": {},
     "output_type": "display_data"
    }
   ],
   "source": [
    "counts, bins, _ = plt.hist(samples, cumulative=True, bins='auto')"
   ]
  },
  {
   "cell_type": "markdown",
   "metadata": {},
   "source": [
    "### Función de densidad cumulativa (cdf)"
   ]
  },
  {
   "cell_type": "markdown",
   "metadata": {},
   "source": [
    "Dividiendo las cuentas por el número de muestras, obtenemos una aproximación de la cdf"
   ]
  },
  {
   "cell_type": "code",
   "execution_count": 16,
   "metadata": {},
   "outputs": [
    {
     "data": {
      "text/plain": [
       "[<matplotlib.lines.Line2D at 0xa26f58390>]"
      ]
     },
     "execution_count": 16,
     "metadata": {},
     "output_type": "execute_result"
    },
    {
     "data": {
      "image/png": "[encoded data removed]",
      "text/plain": [
       "<Figure size 432x288 with 1 Axes>"
      ]
     },
     "metadata": {},
     "output_type": "display_data"
    }
   ],
   "source": [
    "counts, bins, _ = plt.hist(samples, cumulative=True, bins='auto', density=True, align='right')\n",
    "plt.plot(bins, sps.norm.cdf(bins), 'r--')"
   ]
  },
  {
   "cell_type": "markdown",
   "metadata": {},
   "source": [
    "Se puede ver que el histograma dividido por el número de muestras aproxima la cdf"
   ]
  },
  {
   "cell_type": "markdown",
   "metadata": {},
   "source": [
    "### Función de densidad de probabilidad (pdf)"
   ]
  },
  {
   "cell_type": "markdown",
   "metadata": {},
   "source": [
    "Además del histograma acumulado también podemos calcular el histograma normal"
   ]
  },
  {
   "cell_type": "code",
   "execution_count": 17,
   "metadata": {},
   "outputs": [
    {
     "data": {
      "image/png": "[encoded data removed]",
      "text/plain": [
       "<Figure size 432x288 with 1 Axes>"
      ]
     },
     "metadata": {},
     "output_type": "display_data"
    }
   ],
   "source": [
    "counts, bins, _ = plt.hist(samples, bins='auto')"
   ]
  },
  {
   "cell_type": "markdown",
   "metadata": {},
   "source": [
    "La densidad $p_X(a)$ se puede aproximar en términos de las cuentas de los intervalos y la longitud de cada intervalo, $\\Delta(\\cdot)$.  Para el valor $a$ en el intervalo $b$,\n",
    "\n",
    "\\begin{equation*}\n",
    "p_X(a) \\approx \\frac{\\text{cuenta}(b)}{n_\\mathrm{s} \\Delta(b)}\n",
    "\\end{equation*}"
   ]
  },
  {
   "cell_type": "code",
   "execution_count": 18,
   "metadata": {},
   "outputs": [
    {
     "data": {
      "text/plain": [
       "[<matplotlib.lines.Line2D at 0xa26c91c18>]"
      ]
     },
     "execution_count": 18,
     "metadata": {},
     "output_type": "execute_result"
    },
    {
     "data": {
      "image/png": "[encoded data removed]",
      "text/plain": [
       "<Figure size 432x288 with 1 Axes>"
      ]
     },
     "metadata": {},
     "output_type": "display_data"
    }
   ],
   "source": [
    "_, _, _ = plt.hist(samples, bins='auto', density=True)\n",
    "plt.plot(bins, sps.norm.pdf(bins), 'r--')"
   ]
  },
  {
   "cell_type": "markdown",
   "metadata": {},
   "source": [
    "Se puede ver que el histograma normalizado aproxima la pdf.  Una mejor aproximación puede obtenerse incrementando el número de muestras `n`.  Inténtelo!"
   ]
  },
  {
   "cell_type": "markdown",
   "metadata": {},
   "source": [
    "### Cuantiles y estadísticos"
   ]
  },
  {
   "cell_type": "code",
   "execution_count": 19,
   "metadata": {},
   "outputs": [
    {
     "name": "stdout",
     "output_type": "stream",
     "text": [
      "Q(0.1) =  -1.2815515655446004\n",
      "Q(0.2) =  -0.8416212335729142\n",
      "Q(0.5) =  0.0\n",
      "Q(0.7) =  0.5244005127080407\n",
      "Q(0.9) =  1.2815515655446004\n",
      "Media = 0, Mediana = 0, Varianza = 1\n"
     ]
    }
   ],
   "source": [
    "print('Q(0.1) = ', sps.norm.ppf(0.1))\n",
    "print('Q(0.2) = ', sps.norm.ppf(0.2))\n",
    "print('Q(0.5) = ', sps.norm.ppf(0.5))\n",
    "print('Q(0.7) = ', sps.norm.ppf(0.7))\n",
    "print('Q(0.9) = ', sps.norm.ppf(0.9))\n",
    "print('Media = {:g}, Mediana = {:g}, Varianza = {:g}'.\n",
    "      format(sps.norm.mean(),\n",
    "             sps.norm.median(),\n",
    "             sps.norm.var()))"
   ]
  },
  {
   "cell_type": "markdown",
   "metadata": {},
   "source": [
    "La variable normal estándar tiene media $\\mu = 0$ y varianza $\\sigma^2 = 1$"
   ]
  },
  {
   "cell_type": "markdown",
   "metadata": {},
   "source": [
    "## Otras variables aleatorias contínuas"
   ]
  },
  {
   "cell_type": "markdown",
   "metadata": {},
   "source": [
    "### Variable aleatoria normal\n",
    "\n",
    "La variable aleatoria normal $X$ tiene distribución completamente definida por su media $\\mu$ y su desviación estándar $\\sigma$.  La variable aleatoria se denota como $X \\sim \\mathcal{N}(\\mu, \\sigma)$ y su densidad se denota como $p_X(x) = \\mathcal{N}(x \\mid \\mu, \\sigma)$"
   ]
  },
  {
   "cell_type": "code",
   "execution_count": 20,
   "metadata": {},
   "outputs": [
    {
     "data": {
      "image/png": "[encoded data removed]",
      "text/plain": [
       "<Figure size 432x288 with 1 Axes>"
      ]
     },
     "metadata": {},
     "output_type": "display_data"
    },
    {
     "data": {
      "image/png": "[encoded data removed]",
      "text/plain": [
       "<Figure size 432x288 with 1 Axes>"
      ]
     },
     "metadata": {},
     "output_type": "display_data"
    }
   ],
   "source": [
    "mean   = 1\n",
    "stddev = 2\n",
    "x = np.linspace(sps.norm.ppf(0.001, loc=mean, scale=stddev), sps.norm.ppf(0.999, loc=mean, scale=stddev), 100)\n",
    "plt.plot(x, sps.norm.pdf(x, loc=mean, scale=stddev))\n",
    "plt.xlim(np.min(x), np.max(x))\n",
    "plt.show()\n",
    "plt.plot(x, sps.norm.cdf(x, loc=mean, scale=stddev))\n",
    "plt.xlim(np.min(x), np.max(x))\n",
    "plt.ylim(0, 1)\n",
    "plt.show()"
   ]
  },
  {
   "cell_type": "code",
   "execution_count": 21,
   "metadata": {},
   "outputs": [
    {
     "name": "stdout",
     "output_type": "stream",
     "text": [
      "Q(0.1) =  -1.5631031310892007\n",
      "Q(0.2) =  -0.6832424671458284\n",
      "Q(0.5) =  1.0\n",
      "Q(0.7) =  2.0488010254160813\n",
      "Q(0.9) =  3.5631031310892007\n",
      "Media = 1, Mediana = 1, Varianza = 4\n"
     ]
    }
   ],
   "source": [
    "print('Q(0.1) = ', sps.norm.ppf(0.1, loc=mean, scale=stddev))\n",
    "print('Q(0.2) = ', sps.norm.ppf(0.2, loc=mean, scale=stddev))\n",
    "print('Q(0.5) = ', sps.norm.ppf(0.5, loc=mean, scale=stddev))\n",
    "print('Q(0.7) = ', sps.norm.ppf(0.7, loc=mean, scale=stddev))\n",
    "print('Q(0.9) = ', sps.norm.ppf(0.9, loc=mean, scale=stddev))\n",
    "print('Media = {:g}, Mediana = {:g}, Varianza = {:g}'.\n",
    "      format(sps.norm.mean(loc=mean, scale=stddev),\n",
    "             sps.norm.median(loc=mean, scale=stddev),\n",
    "             sps.norm.var(loc=mean, scale=stddev)))"
   ]
  },
  {
   "cell_type": "markdown",
   "metadata": {},
   "source": [
    "Intente cambiar los parámetros `mean` y `stddev` para ver diferentes distribuciones binomiales"
   ]
  }
 ],
 "metadata": {
  "kernelspec": {
   "display_name": "Python 3",
   "language": "python",
   "name": "python3"
  },
  "language_info": {
   "codemirror_mode": {
    "name": "ipython",
    "version": 3
   },
   "file_extension": ".py",
   "mimetype": "text/x-python",
   "name": "python",
   "nbconvert_exporter": "python",
   "pygments_lexer": "ipython3",
   "version": "3.6.8"
  }
 },
 "nbformat": 4,
 "nbformat_minor": 4
}
