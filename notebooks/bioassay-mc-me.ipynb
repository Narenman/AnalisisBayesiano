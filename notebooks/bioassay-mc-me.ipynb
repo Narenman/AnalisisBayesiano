{
 "cells": [
  {
   "cell_type": "code",
   "execution_count": 1,
   "metadata": {},
   "outputs": [],
   "source": [
    "%matplotlib inline\n",
    "import numpy as np\n",
    "import scipy.stats as sps\n",
    "import scipy.special as spe\n",
    "import pandas as pd\n",
    "import pymc3 as pm\n",
    "import matplotlib.pyplot as plt"
   ]
  },
  {
   "cell_type": "code",
   "execution_count": 2,
   "metadata": {},
   "outputs": [
    {
     "data": {
      "text/html": [
       "<div>\n",
       "<style scoped>\n",
       "    .dataframe tbody tr th:only-of-type {\n",
       "        vertical-align: middle;\n",
       "    }\n",
       "\n",
       "    .dataframe tbody tr th {\n",
       "        vertical-align: top;\n",
       "    }\n",
       "\n",
       "    .dataframe thead th {\n",
       "        text-align: right;\n",
       "    }\n",
       "</style>\n",
       "<table border=\"1\" class=\"dataframe\">\n",
       "  <thead>\n",
       "    <tr style=\"text-align: right;\">\n",
       "      <th></th>\n",
       "      <th>dose</th>\n",
       "      <th>n</th>\n",
       "      <th>y</th>\n",
       "    </tr>\n",
       "  </thead>\n",
       "  <tbody>\n",
       "    <tr>\n",
       "      <th>0</th>\n",
       "      <td>-0.86</td>\n",
       "      <td>5</td>\n",
       "      <td>0</td>\n",
       "    </tr>\n",
       "    <tr>\n",
       "      <th>1</th>\n",
       "      <td>-0.30</td>\n",
       "      <td>5</td>\n",
       "      <td>1</td>\n",
       "    </tr>\n",
       "    <tr>\n",
       "      <th>2</th>\n",
       "      <td>-0.05</td>\n",
       "      <td>5</td>\n",
       "      <td>3</td>\n",
       "    </tr>\n",
       "    <tr>\n",
       "      <th>3</th>\n",
       "      <td>0.73</td>\n",
       "      <td>5</td>\n",
       "      <td>5</td>\n",
       "    </tr>\n",
       "  </tbody>\n",
       "</table>\n",
       "</div>"
      ],
      "text/plain": [
       "   dose  n  y\n",
       "0 -0.86  5  0\n",
       "1 -0.30  5  1\n",
       "2 -0.05  5  3\n",
       "3  0.73  5  5"
      ]
     },
     "execution_count": 2,
     "metadata": {},
     "output_type": "execute_result"
    }
   ],
   "source": [
    "data = pd.read_csv('data/bioassay.txt', skip_blank_lines=False, header=8)\n",
    "data.head()"
   ]
  },
  {
   "cell_type": "markdown",
   "metadata": {},
   "source": [
    "# Ensayo de toxicidad, otra vez\n",
    "\n",
    "Primero, normalizemos la log-dosis a media cero y desviación estándar de $0.5$:"
   ]
  },
  {
   "cell_type": "code",
   "execution_count": 3,
   "metadata": {},
   "outputs": [],
   "source": [
    "xn = data['dose']\n",
    "xn = 0.5 * (xn - np.mean(xn)) / np.std(xn)"
   ]
  },
  {
   "cell_type": "markdown",
   "metadata": {},
   "source": [
    "Definamos varios posibles modelos:"
   ]
  },
  {
   "cell_type": "code",
   "execution_count": 4,
   "metadata": {},
   "outputs": [],
   "source": [
    "m1 = pm.Model()\n",
    "with m1:\n",
    "    alpha = pm.Flat('alpha')\n",
    "    beta  = pm.Flat('beta')\n",
    "    theta = pm.math.invlogit(alpha + beta * xn)\n",
    "    y     = pm.Binomial('y', p=theta, n=data['n'], observed=data['y'])\n",
    "    LD50  = pm.Deterministic('LD50', -alpha/beta)\n",
    "    \n",
    "m2 = pm.Model()\n",
    "with m2:\n",
    "    alpha = pm.Normal('alpha', mu=0, sd=10)\n",
    "    beta  = pm.Normal('beta',  mu=0, sd=10)\n",
    "    theta = pm.math.invlogit(alpha + beta * xn)\n",
    "    y     = pm.Binomial('y', p=theta, n=data['n'], observed=data['y'])\n",
    "    LD50  = pm.Deterministic('LD50', -alpha/beta)\n",
    "    \n",
    "m3 = pm.Model()\n",
    "with m3:\n",
    "    alpha = pm.Cauchy('alpha', alpha=0, beta=10)\n",
    "    beta  = pm.Cauchy('beta',  alpha=0, beta=2.5)\n",
    "    theta = pm.math.invlogit(alpha + beta * xn)\n",
    "    y     = pm.Binomial('y', p=theta, n=data['n'], observed=data['y'])\n",
    "    LD50  = pm.Deterministic('LD50', -alpha/beta)\n",
    "    \n",
    "m1.name = 'm1'\n",
    "m2.name = 'm2'\n",
    "m3.name = 'm3'"
   ]
  },
  {
   "cell_type": "markdown",
   "metadata": {},
   "source": [
    "## Estimadores puntuales\n",
    "\n",
    "Hemos obtenido estimadores probabilísticos de los parámetros del modelo.  Todavía no hemos considerado si las suposiciones que hemos hecho hasta ahora son adecuadas.  Antes de eso, vale la pena comparar los resultados de la calibración Bayesiana contra otros estimadores de parámetros.\n",
    "\n",
    "### Estimador de máxima verosimilitud (MLE)\n",
    "\n",
    "El MLE corresponde al valor de los parámetros que maximiza la verosimilitud:\n",
    "\\begin{equation*}\n",
    "\\theta_{\\mathrm{MLE}} = \\operatorname{\\arg\\,\\max}_\\theta p(y \\mid \\theta, x)\n",
    "\\end{equation*}\n",
    "\n",
    "### Estimador de máxima densidad posterior (MAP)\n",
    "\n",
    "El MAP corresponde al valor de los parámetros que maximiza la distribución posterior, i.e., el modo de la distribución posterior:\n",
    "\\begin{equation*}\n",
    "\\theta_{\\mathrm{MAP}} = \\operatorname{\\arg\\,\\max} p(\\theta \\mid y, x)\n",
    "\\end{equation*}\n",
    "Dado que el denominador en el teorema de Bayes es independiente de $\\theta$, tenemos que el MAP maximiza el numerador:\n",
    "\\begin{equation*}\n",
    "\\theta_{\\mathrm{MAP}} = \\operatorname{\\arg\\,\\max} p(y \\mid \\theta, x) p(\\theta)\n",
    "\\end{equation*}\n",
    "\n",
    "Comparando contra el MLE, se ve que el MAP se diferencia en incluir la distribución anterior.  Para distribuciones anteriores uniformes o impropias, el MAP y el MLE coinciden.\n",
    "\n",
    "Para nuestro ejemplo, usaremos la capacidad de calcular el MAP para calcular el MLE:"
   ]
  },
  {
   "cell_type": "code",
   "execution_count": 5,
   "metadata": {},
   "outputs": [
    {
     "name": "stderr",
     "output_type": "stream",
     "text": [
      "/Users/bara947/.local/intelpython3/envs/u18fest_env/lib/python3.6/site-packages/pymc3/tuning/starting.py:61: UserWarning: find_MAP should not be used to initialize the NUTS sampler, simply call pymc3.sample() and it will automatically initialize NUTS in a better way.\n",
      "  warnings.warn('find_MAP should not be used to initialize the NUTS sampler, simply call pymc3.sample() and it will automatically initialize NUTS in a better way.')\n",
      "logp = -1.9824, ||grad|| = 0.00081433: 100%|██████████| 14/14 [00:00<00:00, 2652.94it/s]  \n"
     ]
    },
    {
     "name": "stdout",
     "output_type": "stream",
     "text": [
      "\n",
      " m1 MAP =  {'alpha': array(-0.08327912), 'beta': array(8.860161), 'LD50': array(0.00939928)} \n",
      "\n"
     ]
    },
    {
     "name": "stderr",
     "output_type": "stream",
     "text": [
      "/Users/bara947/.local/intelpython3/envs/u18fest_env/lib/python3.6/site-packages/pymc3/tuning/starting.py:61: UserWarning: find_MAP should not be used to initialize the NUTS sampler, simply call pymc3.sample() and it will automatically initialize NUTS in a better way.\n",
      "  warnings.warn('find_MAP should not be used to initialize the NUTS sampler, simply call pymc3.sample() and it will automatically initialize NUTS in a better way.')\n",
      "logp = -8.7372, ||grad|| = 7.2687e-05: 100%|██████████| 13/13 [00:00<00:00, 2878.73it/s]  \n",
      "/Users/bara947/.local/intelpython3/envs/u18fest_env/lib/python3.6/site-packages/pymc3/tuning/starting.py:61: UserWarning: find_MAP should not be used to initialize the NUTS sampler, simply call pymc3.sample() and it will automatically initialize NUTS in a better way.\n",
      "  warnings.warn('find_MAP should not be used to initialize the NUTS sampler, simply call pymc3.sample() and it will automatically initialize NUTS in a better way.')\n"
     ]
    },
    {
     "name": "stdout",
     "output_type": "stream",
     "text": [
      "\n",
      " m2 MAP =  {'alpha': array(-0.13128076), 'beta': array(7.16481409), 'LD50': array(0.01832298)} \n",
      "\n"
     ]
    },
    {
     "name": "stderr",
     "output_type": "stream",
     "text": [
      "logp = -9.4974, ||grad|| = 3.1024e-06: 100%|██████████| 12/12 [00:00<00:00, 3149.67it/s]  "
     ]
    },
    {
     "name": "stdout",
     "output_type": "stream",
     "text": [
      "\n",
      " m3 MAP =  {'alpha': array(-0.20565752), 'beta': array(4.76492768), 'LD50': array(0.04316068)} \n",
      "\n"
     ]
    },
    {
     "name": "stderr",
     "output_type": "stream",
     "text": [
      "\n"
     ]
    }
   ],
   "source": [
    "def mapc(model):\n",
    "    with model:\n",
    "        mapest = pm.find_MAP()\n",
    "        print('\\n', '{} MAP = '.format(model.name), mapest, '\\n')\n",
    "\n",
    "for m in [m1, m2, m3]:\n",
    "    mapc(m);"
   ]
  },
  {
   "cell_type": "markdown",
   "metadata": {},
   "source": [
    "## Chequeo del modelo\n",
    "\n",
    "Ahora podemos considerar la pregunta de si las suposiciones que hemos hecho son adecuadas para modelar los datos.  Para ésto utilizaremos las estrategias de simular replicaciones y de chequeo de la predicción posterior.\n",
    "\n",
    "### Simular repeticiones\n",
    "\n",
    "La verosimilitud $p(y \\mid \\theta, x)$ indica la distribución de las posibles observaciones dados los parámetros.  Entonces, una vez se han calibrado los parámetros podemos utilizar ésta verosimilitud para simular qué otras observaciones serían posibles o pudieron haber sido observadas.  Dado que nuestra calibración es probabilística, tenemos qué considerar la distribución posterior de los parámetros.  Si denotamos con $y^\\mathrm{rep}$ las repeticiones, entonces\n",
    "\\begin{equation*}\n",
    "p(y^\\mathrm{rep} \\mid y, x) = \\int p(y^\\mathrm{rep} \\mid \\theta, x) p(\\theta \\mid y, x) \\, \\mathrm{d} \\theta\n",
    "\\end{equation*}\n",
    "donde hemos marginalizado sobre $\\Theta$"
   ]
  },
  {
   "cell_type": "code",
   "execution_count": 6,
   "metadata": {},
   "outputs": [
    {
     "name": "stderr",
     "output_type": "stream",
     "text": [
      "Auto-assigning NUTS sampler...\n",
      "Initializing NUTS using jitter+adapt_diag...\n",
      "Multiprocess sampling (4 chains in 4 jobs)\n",
      "NUTS: [beta, alpha]\n",
      "Sampling 4 chains: 100%|██████████| 12000/12000 [00:02<00:00, 4585.96draws/s]\n",
      "There were 6 divergences after tuning. Increase `target_accept` or reparameterize.\n",
      "Auto-assigning NUTS sampler...\n",
      "Initializing NUTS using jitter+adapt_diag...\n",
      "Multiprocess sampling (4 chains in 4 jobs)\n",
      "NUTS: [beta, alpha]\n",
      "Sampling 4 chains: 100%|██████████| 12000/12000 [00:03<00:00, 3782.81draws/s]\n",
      "Auto-assigning NUTS sampler...\n",
      "Initializing NUTS using jitter+adapt_diag...\n",
      "Multiprocess sampling (4 chains in 4 jobs)\n",
      "NUTS: [beta, alpha]\n",
      "Sampling 4 chains: 100%|██████████| 12000/12000 [00:03<00:00, 3425.39draws/s]\n"
     ]
    }
   ],
   "source": [
    "ml = [m1, m2, m3]\n",
    "nm = len(ml)\n",
    "tl = [None] * nm\n",
    "for i in range(nm):\n",
    "    tl[i] = pm.sample(2000, model=ml[i], tune=1000, target_accept=0.98, random_seed=0)"
   ]
  },
  {
   "cell_type": "code",
   "execution_count": 23,
   "metadata": {},
   "outputs": [
    {
     "data": {
      "image/png": "[encoded data removed]",
      "text/plain": [
       "<Figure size 432x288 with 2 Axes>"
      ]
     },
     "metadata": {},
     "output_type": "display_data"
    },
    {
     "data": {
      "image/png": "[encoded data removed]",
      "text/plain": [
       "<Figure size 432x288 with 2 Axes>"
      ]
     },
     "metadata": {},
     "output_type": "display_data"
    },
    {
     "data": {
      "image/png": "[encoded data removed]",
      "text/plain": [
       "<Figure size 432x288 with 2 Axes>"
      ]
     },
     "metadata": {},
     "output_type": "display_data"
    },
    {
     "data": {
      "text/plain": [
       "(<matplotlib.gridspec.GridSpec at 0xb2e4862b0>, None)"
      ]
     },
     "execution_count": 23,
     "metadata": {},
     "output_type": "execute_result"
    }
   ],
   "source": [
    "pm.forestplot(tl, [m1.name, m2.name, m3.name], varnames=['alpha']), plt.show()\n",
    "pm.forestplot(tl, [m1.name, m2.name, m3.name], varnames=['beta']), plt.show()\n",
    "pm.forestplot(tl, [m1.name, m2.name, m3.name], varnames=['LD50']), plt.show()"
   ]
  },
  {
   "cell_type": "code",
   "execution_count": 7,
   "metadata": {},
   "outputs": [
    {
     "name": "stderr",
     "output_type": "stream",
     "text": [
      "100%|██████████| 100/100 [00:00<00:00, 929.96it/s]\n"
     ]
    },
    {
     "data": {
      "image/png": "[encoded data removed]",
      "text/plain": [
       "<Figure size 432x288 with 1 Axes>"
      ]
     },
     "metadata": {},
     "output_type": "display_data"
    },
    {
     "name": "stderr",
     "output_type": "stream",
     "text": [
      "100%|██████████| 100/100 [00:00<00:00, 1118.50it/s]\n"
     ]
    },
    {
     "data": {
      "image/png": "[encoded data removed]",
      "text/plain": [
       "<Figure size 432x288 with 1 Axes>"
      ]
     },
     "metadata": {},
     "output_type": "display_data"
    },
    {
     "name": "stderr",
     "output_type": "stream",
     "text": [
      "100%|██████████| 100/100 [00:00<00:00, 1240.62it/s]\n"
     ]
    },
    {
     "data": {
      "image/png": "[encoded data removed]",
      "text/plain": [
       "<Figure size 432x288 with 1 Axes>"
      ]
     },
     "metadata": {},
     "output_type": "display_data"
    }
   ],
   "source": [
    "nppc = 100\n",
    "xr   = np.linspace(xn.min(), xn.max(), 20)\n",
    "for j in range(nm):\n",
    "    ppc = pm.sample_posterior_predictive(tl[j], samples=nppc, model=ml[j])\n",
    "    alpha = np.mean(tl[j]['alpha'])\n",
    "    beta = np.mean(tl[j]['beta'])\n",
    "    plt.plot(xr, spe.expit(alpha + beta * xr), 'r--')\n",
    "    plt.scatter(np.tile(xn, (nppc, 1)), ppc['y'] / 5, alpha=0.03, s=250)\n",
    "    plt.scatter(xn, data['y'] / data['n'], color='r', marker='x')\n",
    "    plt.show()"
   ]
  },
  {
   "cell_type": "markdown",
   "metadata": {},
   "source": [
    "## Evaluación y comparación de modelos\n",
    "\n",
    "Digamos que se obtiene una observación nueva $(\\hat{x}, \\hat{y})$.  Podemos evaluar la calidad de nuestros modelos calculando la verosimilitud de ésta observación dada el modelo calibrado:\n",
    "\\begin{equation*}\n",
    "p(\\hat{y} \\mid \\hat{x}, y, x) = \\int p(\\hat{y} \\mid \\hat{x}, \\theta) \\, p(\\theta \\mid y, x) \\, \\mathrm{d} \\theta\n",
    "\\end{equation*}\n",
    "Llamamos a ésta distribución la _distribución predictiva_.\n",
    "\n",
    "En general, queremos evaluar nuestros modelos sin adquirir nuevas observaciones.  Si los datos $(\\hat{x}, \\hat{y})$ vienen de la distribución $f(\\hat{x}, \\hat{y})$, podemos evaluar la esperanza de la log-distribución predictiva, o $\\mathrm{elpd}$:\n",
    "\\begin{equation*}\n",
    "\\operatorname{elpd} = \\int \\log p(\\hat{y} \\mid \\hat{x}, y, x) \\, f(\\hat{y}, \\hat{x}) \\, \\mathrm{d} \\hat{y} \\mathrm{d} \\hat{x},\n",
    "\\end{equation*}\n",
    "pero desafortunadamente no conocemos $f(\\hat{x}, \\hat{y})$ _a priori_, así que ésta expresión debe aproximarse.\n",
    "\n",
    "Los _criterios de información (IC)_ son estimadores que aproximan la log-distribuciónón predictiva. Dada una colección de modelos, éstos criterios se pueden utilizar para comparar los modelos entre ellos.  Por convención preferimos el modelo con menor valor del criterio en cuestión."
   ]
  },
  {
   "cell_type": "code",
   "execution_count": 25,
   "metadata": {},
   "outputs": [
    {
     "name": "stderr",
     "output_type": "stream",
     "text": [
      "/Users/bara947/.local/intelpython3/envs/u18fest_env/lib/python3.6/site-packages/pymc3/stats.py:218: UserWarning: For one or more samples the posterior variance of the\n",
      "        log predictive densities exceeds 0.4. This could be indication of\n",
      "        WAIC starting to fail see http://arxiv.org/abs/1507.04544 for details\n",
      "        \n",
      "  \"\"\")\n"
     ]
    },
    {
     "data": {
      "text/html": [
       "<div>\n",
       "<style scoped>\n",
       "    .dataframe tbody tr th:only-of-type {\n",
       "        vertical-align: middle;\n",
       "    }\n",
       "\n",
       "    .dataframe tbody tr th {\n",
       "        vertical-align: top;\n",
       "    }\n",
       "\n",
       "    .dataframe thead th {\n",
       "        text-align: right;\n",
       "    }\n",
       "</style>\n",
       "<table border=\"1\" class=\"dataframe\">\n",
       "  <thead>\n",
       "    <tr style=\"text-align: right;\">\n",
       "      <th></th>\n",
       "      <th>WAIC</th>\n",
       "      <th>pWAIC</th>\n",
       "      <th>dWAIC</th>\n",
       "      <th>weight</th>\n",
       "      <th>SE</th>\n",
       "      <th>dSE</th>\n",
       "      <th>var_warn</th>\n",
       "    </tr>\n",
       "  </thead>\n",
       "  <tbody>\n",
       "    <tr>\n",
       "      <th>m2</th>\n",
       "      <td>6.25</td>\n",
       "      <td>0.53</td>\n",
       "      <td>0</td>\n",
       "      <td>1</td>\n",
       "      <td>2.77</td>\n",
       "      <td>0</td>\n",
       "      <td>0</td>\n",
       "    </tr>\n",
       "    <tr>\n",
       "      <th>m3</th>\n",
       "      <td>6.78</td>\n",
       "      <td>0.66</td>\n",
       "      <td>0.53</td>\n",
       "      <td>0</td>\n",
       "      <td>2.46</td>\n",
       "      <td>0.31</td>\n",
       "      <td>0</td>\n",
       "    </tr>\n",
       "    <tr>\n",
       "      <th>m1</th>\n",
       "      <td>7.93</td>\n",
       "      <td>1.22</td>\n",
       "      <td>1.68</td>\n",
       "      <td>0</td>\n",
       "      <td>3.75</td>\n",
       "      <td>1.1</td>\n",
       "      <td>1</td>\n",
       "    </tr>\n",
       "  </tbody>\n",
       "</table>\n",
       "</div>"
      ],
      "text/plain": [
       "    WAIC pWAIC dWAIC weight    SE   dSE var_warn\n",
       "m2  6.25  0.53     0      1  2.77     0        0\n",
       "m3  6.78  0.66  0.53      0  2.46  0.31        0\n",
       "m1  7.93  1.22  1.68      0  3.75   1.1        1"
      ]
     },
     "execution_count": 25,
     "metadata": {},
     "output_type": "execute_result"
    }
   ],
   "source": [
    "pm.compare({m1:tl[0], m2:tl[1], m3:tl[2]}, ic='WAIC')"
   ]
  }
 ],
 "metadata": {
  "kernelspec": {
   "display_name": "Python 3",
   "language": "python",
   "name": "python3"
  },
  "language_info": {
   "codemirror_mode": {
    "name": "ipython",
    "version": 3
   },
   "file_extension": ".py",
   "mimetype": "text/x-python",
   "name": "python",
   "nbconvert_exporter": "python",
   "pygments_lexer": "ipython3",
   "version": "3.6.8"
  }
 },
 "nbformat": 4,
 "nbformat_minor": 4
}
