{
 "cells": [
  {
   "cell_type": "code",
   "execution_count": 1,
   "metadata": {},
   "outputs": [],
   "source": [
    "import numpy as np\n",
    "import numpy.random as npr\n",
    "import scipy.stats as sps\n",
    "import matplotlib.pyplot as plt\n",
    "%matplotlib inline"
   ]
  },
  {
   "cell_type": "markdown",
   "metadata": {},
   "source": [
    "# Variable aleatoria discreta\n",
    "\n",
    "## Suma de dos dados"
   ]
  },
  {
   "cell_type": "code",
   "execution_count": 2,
   "metadata": {},
   "outputs": [
    {
     "name": "stdout",
     "output_type": "stream",
     "text": [
      "[ 2  3  4  5  6  7  8  9 10 11 12]\n",
      "[0.02777778 0.05555556 0.08333333 0.11111111 0.13888889 0.16666667\n",
      " 0.13888889 0.11111111 0.08333333 0.05555556 0.02777778]\n"
     ]
    }
   ],
   "source": [
    "vals  = np.arange(2, 13)\n",
    "probs = np.array([1, 2, 3, 4, 5, 6, 5, 4, 3, 2, 1]) / 36\n",
    "print(vals)\n",
    "print(probs)"
   ]
  },
  {
   "cell_type": "code",
   "execution_count": 3,
   "metadata": {},
   "outputs": [
    {
     "data": {
      "text/plain": [
       "1.0"
      ]
     },
     "execution_count": 3,
     "metadata": {},
     "output_type": "execute_result"
    }
   ],
   "source": [
    "probs.sum()"
   ]
  },
  {
   "cell_type": "code",
   "execution_count": 4,
   "metadata": {},
   "outputs": [],
   "source": [
    "npr.seed(0)"
   ]
  },
  {
   "cell_type": "code",
   "execution_count": 5,
   "metadata": {},
   "outputs": [
    {
     "name": "stdout",
     "output_type": "stream",
     "text": [
      "[ 7  8  8  7  7  8  7 10 11  6]\n"
     ]
    }
   ],
   "source": [
    "ns = 1000\n",
    "samples = npr.choice(vals, p=probs, size=ns)\n",
    "print(samples[:10])"
   ]
  },
  {
   "cell_type": "markdown",
   "metadata": {},
   "source": [
    "Un histograma consiste en _intervalos_ de la variable aleatoria, y _cuentas_ del número de muestras en el intervalo"
   ]
  },
  {
   "cell_type": "code",
   "execution_count": 6,
   "metadata": {},
   "outputs": [
    {
     "name": "stdout",
     "output_type": "stream",
     "text": [
      "[ 1.5  2.5  3.5  4.5  5.5  6.5  7.5  8.5  9.5 10.5 11.5 12.5]\n"
     ]
    }
   ],
   "source": [
    "bc = np.arange(2, 14) - 0.5\n",
    "print(bc)"
   ]
  },
  {
   "cell_type": "code",
   "execution_count": 7,
   "metadata": {},
   "outputs": [
    {
     "data": {
      "image/png": "[encoded data removed]",
      "text/plain": [
       "<Figure size 432x288 with 1 Axes>"
      ]
     },
     "metadata": {},
     "output_type": "display_data"
    }
   ],
   "source": [
    "counts, bins, _ = plt.hist(samples, bins=bc)"
   ]
  },
  {
   "cell_type": "code",
   "execution_count": 8,
   "metadata": {},
   "outputs": [
    {
     "name": "stdout",
     "output_type": "stream",
     "text": [
      "Cuentas:\n",
      " [ 26.  55.  91. 110. 152. 160. 134.  96.  80.  67.  29.] \n",
      "\n",
      "Intervalos:\n",
      " [ 1.5  2.5  3.5  4.5  5.5  6.5  7.5  8.5  9.5 10.5 11.5 12.5]\n"
     ]
    }
   ],
   "source": [
    "print('Cuentas:\\n', counts, '\\n')\n",
    "print('Intervalos:\\n', bins)"
   ]
  },
  {
   "cell_type": "markdown",
   "metadata": {},
   "source": [
    "## Función de masa de probabilidad (pmf)"
   ]
  },
  {
   "cell_type": "markdown",
   "metadata": {},
   "source": [
    "Las cuentas en el histograma no corresponden a la pmf, pero la pmf se puede approximar usando las cuentas:  Para un valor $a$ en el intervalo $b$,\n",
    "\n",
    "\\begin{equation*}\n",
    "p(a) \\approx \\frac{\\text{cuenta}(b)}{n_\\mathrm{s}}\n",
    "\\end{equation*}"
   ]
  },
  {
   "cell_type": "code",
   "execution_count": 9,
   "metadata": {},
   "outputs": [
    {
     "data": {
      "text/plain": [
       "<StemContainer object of 3 artists>"
      ]
     },
     "execution_count": 9,
     "metadata": {},
     "output_type": "execute_result"
    },
    {
     "data": {
      "image/png": "[encoded data removed]",
      "text/plain": [
       "<Figure size 432x288 with 1 Axes>"
      ]
     },
     "metadata": {},
     "output_type": "display_data"
    }
   ],
   "source": [
    "weights = np.ones_like(samples) / ns\n",
    "plt.hist(samples, bins=bc, weights=weights)\n",
    "plt.stem(vals, probs, markerfmt='ro', linefmt='r--')"
   ]
  },
  {
   "cell_type": "markdown",
   "metadata": {},
   "source": [
    "# Variable aleatoria contínua\n",
    "\n",
    "## Variable normal estándar\n",
    "\n",
    "\\begin{equation*}\n",
    "X \\sim \\mathcal{N}(0, 1)\n",
    "\\end{equation*}"
   ]
  },
  {
   "cell_type": "code",
   "execution_count": 10,
   "metadata": {},
   "outputs": [
    {
     "name": "stdout",
     "output_type": "stream",
     "text": [
      "[-0.10169727  0.01927938  1.84959125 -0.21416666 -0.49901664  0.02135122\n",
      " -0.91911344  0.19275385 -0.36505522 -1.79132755]\n"
     ]
    }
   ],
   "source": [
    "samples = npr.standard_normal(1000)\n",
    "print(samples[:10])"
   ]
  },
  {
   "cell_type": "markdown",
   "metadata": {},
   "source": [
    "Podemos calcular un histograma cumulativo, en el que el valor cumulativo para cada intervalo corresponde a la suma de la cuenta del intervalo y de todos los intervalos menores al intervalo en cuestión"
   ]
  },
  {
   "cell_type": "code",
   "execution_count": 11,
   "metadata": {},
   "outputs": [
    {
     "data": {
      "image/png": "[encoded data removed]",
      "text/plain": [
       "<Figure size 432x288 with 1 Axes>"
      ]
     },
     "metadata": {},
     "output_type": "display_data"
    }
   ],
   "source": [
    "counts, bins, _ = plt.hist(samples, cumulative=True, bins='auto')"
   ]
  },
  {
   "cell_type": "markdown",
   "metadata": {},
   "source": [
    "## Función de densidad cumulativa (cdf)"
   ]
  },
  {
   "cell_type": "markdown",
   "metadata": {},
   "source": [
    "Dividiendo las cuentas por el número de muestras, obtenemos una aproximación de la cdf"
   ]
  },
  {
   "cell_type": "code",
   "execution_count": 12,
   "metadata": {},
   "outputs": [
    {
     "data": {
      "text/plain": [
       "[<matplotlib.lines.Line2D at 0x107595b70>]"
      ]
     },
     "execution_count": 12,
     "metadata": {},
     "output_type": "execute_result"
    },
    {
     "data": {
      "image/png": "[encoded data removed]",
      "text/plain": [
       "<Figure size 432x288 with 1 Axes>"
      ]
     },
     "metadata": {},
     "output_type": "display_data"
    }
   ],
   "source": [
    "counts, bins, _ = plt.hist(samples, cumulative=True, bins='auto', density=True, align='right')\n",
    "plt.plot(bins, sps.norm.cdf(bins), 'r--')"
   ]
  },
  {
   "cell_type": "markdown",
   "metadata": {},
   "source": [
    "## Función de densidad de probabilidad (pdf)"
   ]
  },
  {
   "cell_type": "code",
   "execution_count": 13,
   "metadata": {},
   "outputs": [
    {
     "data": {
      "image/png": "[encoded data removed]",
      "text/plain": [
       "<Figure size 432x288 with 1 Axes>"
      ]
     },
     "metadata": {},
     "output_type": "display_data"
    }
   ],
   "source": [
    "counts, bins, _ = plt.hist(samples, bins='auto')"
   ]
  },
  {
   "cell_type": "code",
   "execution_count": 14,
   "metadata": {},
   "outputs": [
    {
     "name": "stdout",
     "output_type": "stream",
     "text": [
      "[  3.   3.   0.   5.  17.  24.  40.  42.  87.  63.  93.  95. 106. 104.\n",
      "  86.  66.  48.  43.  29.  18.  10.   9.   6.   2.   1.]\n",
      "[-2.99461286 -2.74798935 -2.50136585 -2.25474234 -2.00811884 -1.76149533\n",
      " -1.51487183 -1.26824832 -1.02162482 -0.77500131 -0.52837781 -0.2817543\n",
      " -0.0351308   0.21149271  0.45811621  0.70473972  0.95136323  1.19798673\n",
      "  1.44461024  1.69123374  1.93785725  2.18448075  2.43110426  2.67772776\n",
      "  2.92435127  3.17097477]\n"
     ]
    }
   ],
   "source": [
    "print(counts)\n",
    "print(bins)"
   ]
  },
  {
   "cell_type": "markdown",
   "metadata": {},
   "source": [
    "Podemos introducir el concepto de \"densidad\" $p(a)$ en términos de las cuentas de los intervalos y la longitud de cada intervalo, $\\Delta(\\cdot)$.  Para el valor $a$ en el intervalo $b$,\n",
    "\n",
    "\\begin{equation*}\n",
    "p(a) \\approx \\frac{\\text{cuenta}(b)}{n_\\mathrm{s} \\Delta(b)}\n",
    "\\end{equation*}"
   ]
  },
  {
   "cell_type": "code",
   "execution_count": 15,
   "metadata": {},
   "outputs": [
    {
     "data": {
      "text/plain": [
       "[<matplotlib.lines.Line2D at 0xa26e1fb00>]"
      ]
     },
     "execution_count": 15,
     "metadata": {},
     "output_type": "execute_result"
    },
    {
     "data": {
      "image/png": "[encoded data removed]",
      "text/plain": [
       "<Figure size 432x288 with 1 Axes>"
      ]
     },
     "metadata": {},
     "output_type": "display_data"
    }
   ],
   "source": [
    "_, _, _ = plt.hist(samples, bins='auto', density=True)\n",
    "plt.plot(bins, sps.norm.pdf(bins), 'r--')"
   ]
  }
 ],
 "metadata": {
  "kernelspec": {
   "display_name": "Python 3",
   "language": "python",
   "name": "python3"
  },
  "language_info": {
   "codemirror_mode": {
    "name": "ipython",
    "version": 3
   },
   "file_extension": ".py",
   "mimetype": "text/x-python",
   "name": "python",
   "nbconvert_exporter": "python",
   "pygments_lexer": "ipython3",
   "version": "3.6.8"
  }
 },
 "nbformat": 4,
 "nbformat_minor": 4
}
